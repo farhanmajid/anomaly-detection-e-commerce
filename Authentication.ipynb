{
 "cells": [
  {
   "cell_type": "markdown",
   "metadata": {},
   "source": [
    "### In this notebook we will be Authenticating Users with a Hybrid Authentication Technique"
   ]
  },
  {
   "cell_type": "markdown",
   "metadata": {},
   "source": [
    "### Reading the dataset \n"
   ]
  },
  {
   "cell_type": "code",
   "execution_count": 6,
   "metadata": {},
   "outputs": [],
   "source": [
    "import numpy as np\n",
    "import pandas as pd\n",
    "\n",
    "\n",
    "f_data = pd.read_csv('.\\\\data\\\\Fraud_data.csv')"
   ]
  },
  {
   "cell_type": "markdown",
   "metadata": {},
   "source": [
    "### Selecting a sample of the dataset"
   ]
  },
  {
   "cell_type": "code",
   "execution_count": 7,
   "metadata": {
    "scrolled": true
   },
   "outputs": [
    {
     "data": {
      "text/html": [
       "<div>\n",
       "<style scoped>\n",
       "    .dataframe tbody tr th:only-of-type {\n",
       "        vertical-align: middle;\n",
       "    }\n",
       "\n",
       "    .dataframe tbody tr th {\n",
       "        vertical-align: top;\n",
       "    }\n",
       "\n",
       "    .dataframe thead th {\n",
       "        text-align: right;\n",
       "    }\n",
       "</style>\n",
       "<table border=\"1\" class=\"dataframe\">\n",
       "  <thead>\n",
       "    <tr style=\"text-align: right;\">\n",
       "      <th></th>\n",
       "      <th>user_id</th>\n",
       "      <th>signup_time</th>\n",
       "      <th>purchase_time</th>\n",
       "      <th>purchase_value</th>\n",
       "      <th>device_id</th>\n",
       "      <th>source</th>\n",
       "      <th>browser</th>\n",
       "      <th>sex</th>\n",
       "      <th>age</th>\n",
       "      <th>ip_address</th>\n",
       "      <th>class</th>\n",
       "    </tr>\n",
       "  </thead>\n",
       "  <tbody>\n",
       "    <tr>\n",
       "      <th>11569</th>\n",
       "      <td>51007</td>\n",
       "      <td>1/18/2015 13:05</td>\n",
       "      <td>2/2/2015 20:48</td>\n",
       "      <td>41</td>\n",
       "      <td>IZDOQXGCOEXDW</td>\n",
       "      <td>SEO</td>\n",
       "      <td>Safari</td>\n",
       "      <td>M</td>\n",
       "      <td>28</td>\n",
       "      <td>1.302914e+09</td>\n",
       "      <td>0</td>\n",
       "    </tr>\n",
       "    <tr>\n",
       "      <th>92948</th>\n",
       "      <td>385689</td>\n",
       "      <td>1/4/2015 7:33</td>\n",
       "      <td>1/4/2015 7:33</td>\n",
       "      <td>64</td>\n",
       "      <td>KFEDHEDMSABVW</td>\n",
       "      <td>Direct</td>\n",
       "      <td>IE</td>\n",
       "      <td>F</td>\n",
       "      <td>32</td>\n",
       "      <td>3.647843e+09</td>\n",
       "      <td>1</td>\n",
       "    </tr>\n",
       "    <tr>\n",
       "      <th>80566</th>\n",
       "      <td>159762</td>\n",
       "      <td>7/13/2015 0:59</td>\n",
       "      <td>10/11/2015 21:16</td>\n",
       "      <td>23</td>\n",
       "      <td>EDBHTMGJMYOGR</td>\n",
       "      <td>SEO</td>\n",
       "      <td>Chrome</td>\n",
       "      <td>F</td>\n",
       "      <td>30</td>\n",
       "      <td>1.315330e+09</td>\n",
       "      <td>0</td>\n",
       "    </tr>\n",
       "    <tr>\n",
       "      <th>126723</th>\n",
       "      <td>240545</td>\n",
       "      <td>7/16/2015 15:21</td>\n",
       "      <td>9/27/2015 20:12</td>\n",
       "      <td>17</td>\n",
       "      <td>LPCYNMPZMREGF</td>\n",
       "      <td>Direct</td>\n",
       "      <td>Chrome</td>\n",
       "      <td>F</td>\n",
       "      <td>45</td>\n",
       "      <td>2.181233e+08</td>\n",
       "      <td>0</td>\n",
       "    </tr>\n",
       "    <tr>\n",
       "      <th>18229</th>\n",
       "      <td>241341</td>\n",
       "      <td>6/28/2015 4:18</td>\n",
       "      <td>7/18/2015 14:25</td>\n",
       "      <td>54</td>\n",
       "      <td>YEPIJEPUCRDJX</td>\n",
       "      <td>Ads</td>\n",
       "      <td>Chrome</td>\n",
       "      <td>M</td>\n",
       "      <td>18</td>\n",
       "      <td>3.601104e+09</td>\n",
       "      <td>0</td>\n",
       "    </tr>\n",
       "  </tbody>\n",
       "</table>\n",
       "</div>"
      ],
      "text/plain": [
       "        user_id      signup_time     purchase_time  purchase_value  \\\n",
       "11569     51007  1/18/2015 13:05    2/2/2015 20:48              41   \n",
       "92948    385689    1/4/2015 7:33     1/4/2015 7:33              64   \n",
       "80566    159762   7/13/2015 0:59  10/11/2015 21:16              23   \n",
       "126723   240545  7/16/2015 15:21   9/27/2015 20:12              17   \n",
       "18229    241341   6/28/2015 4:18   7/18/2015 14:25              54   \n",
       "\n",
       "            device_id  source browser sex  age    ip_address  class  \n",
       "11569   IZDOQXGCOEXDW     SEO  Safari   M   28  1.302914e+09      0  \n",
       "92948   KFEDHEDMSABVW  Direct      IE   F   32  3.647843e+09      1  \n",
       "80566   EDBHTMGJMYOGR     SEO  Chrome   F   30  1.315330e+09      0  \n",
       "126723  LPCYNMPZMREGF  Direct  Chrome   F   45  2.181233e+08      0  \n",
       "18229   YEPIJEPUCRDJX     Ads  Chrome   M   18  3.601104e+09      0  "
      ]
     },
     "execution_count": 7,
     "metadata": {},
     "output_type": "execute_result"
    }
   ],
   "source": [
    "auth = f_data.sample(5)\n",
    "auth"
   ]
  },
  {
   "cell_type": "markdown",
   "metadata": {},
   "source": [
    "### Authenticating users with Login credentials and Challenge Questions"
   ]
  },
  {
   "cell_type": "code",
   "execution_count": 8,
   "metadata": {},
   "outputs": [
    {
     "data": {
      "text/html": [
       "<div>\n",
       "<style scoped>\n",
       "    .dataframe tbody tr th:only-of-type {\n",
       "        vertical-align: middle;\n",
       "    }\n",
       "\n",
       "    .dataframe tbody tr th {\n",
       "        vertical-align: top;\n",
       "    }\n",
       "\n",
       "    .dataframe thead th {\n",
       "        text-align: right;\n",
       "    }\n",
       "</style>\n",
       "<table border=\"1\" class=\"dataframe\">\n",
       "  <thead>\n",
       "    <tr style=\"text-align: right;\">\n",
       "      <th></th>\n",
       "      <th>user_id</th>\n",
       "    </tr>\n",
       "    <tr>\n",
       "      <th>Genuine Users</th>\n",
       "      <th></th>\n",
       "    </tr>\n",
       "  </thead>\n",
       "  <tbody>\n",
       "    <tr>\n",
       "      <th>11569</th>\n",
       "      <td>51007</td>\n",
       "    </tr>\n",
       "    <tr>\n",
       "      <th>80566</th>\n",
       "      <td>159762</td>\n",
       "    </tr>\n",
       "    <tr>\n",
       "      <th>126723</th>\n",
       "      <td>240545</td>\n",
       "    </tr>\n",
       "    <tr>\n",
       "      <th>18229</th>\n",
       "      <td>241341</td>\n",
       "    </tr>\n",
       "  </tbody>\n",
       "</table>\n",
       "</div>"
      ],
      "text/plain": [
       "               user_id\n",
       "Genuine Users         \n",
       "11569            51007\n",
       "80566           159762\n",
       "126723          240545\n",
       "18229           241341"
      ]
     },
     "metadata": {},
     "output_type": "display_data"
    },
    {
     "data": {
      "text/html": [
       "<div>\n",
       "<style scoped>\n",
       "    .dataframe tbody tr th:only-of-type {\n",
       "        vertical-align: middle;\n",
       "    }\n",
       "\n",
       "    .dataframe tbody tr th {\n",
       "        vertical-align: top;\n",
       "    }\n",
       "\n",
       "    .dataframe thead th {\n",
       "        text-align: right;\n",
       "    }\n",
       "</style>\n",
       "<table border=\"1\" class=\"dataframe\">\n",
       "  <thead>\n",
       "    <tr style=\"text-align: right;\">\n",
       "      <th></th>\n",
       "      <th>user_id</th>\n",
       "    </tr>\n",
       "    <tr>\n",
       "      <th>Fraud detected</th>\n",
       "      <th></th>\n",
       "    </tr>\n",
       "  </thead>\n",
       "  <tbody>\n",
       "    <tr>\n",
       "      <th>92948</th>\n",
       "      <td>385689</td>\n",
       "    </tr>\n",
       "  </tbody>\n",
       "</table>\n",
       "</div>"
      ],
      "text/plain": [
       "                user_id\n",
       "Fraud detected         \n",
       "92948            385689"
      ]
     },
     "metadata": {},
     "output_type": "display_data"
    }
   ],
   "source": [
    "genuine_user=auth['user_id'].where(auth['class']==0)\n",
    "fraud_user=auth['user_id'].where(auth['class']==1)\n",
    "gen=pd.DataFrame(genuine_user)\n",
    "gen=gen.dropna()\n",
    "gen['user_id']= gen['user_id'].astype(int)\n",
    "fr=pd.DataFrame(fraud_user)\n",
    "fr=fr.dropna()\n",
    "fr['user_id']= fr['user_id'].astype(int)\n",
    "index = gen.index\n",
    "index.name = \"Genuine Users\"\n",
    "index1 = fr.index\n",
    "index1.name = \"Fraud detected\"\n",
    "display(gen, fr)"
   ]
  },
  {
   "cell_type": "code",
   "execution_count": 11,
   "metadata": {
    "scrolled": true
   },
   "outputs": [
    {
     "name": "stdout",
     "output_type": "stream",
     "text": [
      "User [385689] , suspicious activity has been detected on your account.\n",
      "Please follow these steps to verify yourself\n",
      "Please enter your login details:\n",
      "\n",
      "Username:Thomas\n",
      "Password:Tom_123\n",
      "\n",
      "Incorrect! Please try again\n"
     ]
    }
   ],
   "source": [
    "def verify_user(us,pa):\n",
    "    usrpass = database.loc[database.Username == us ]\n",
    "    aa = usrpass.values.tolist()\n",
    "    if (aa == []):\n",
    "        print('Incorrect! Please try again')\n",
    "    for item in aa:\n",
    "        if (us == item[0] and pa == item[1]):\n",
    "            print('Please provide an answer to this security question:', \n",
    "                 item[2])\n",
    "            challenge_question = input('Answer:')\n",
    "            if (challenge_question == item[3]):\n",
    "                print('\\nYou have been successfully authenticated! Please proceed to the transaction!')\n",
    "            else:\n",
    "                  print('\\nIncorrect! Please try again')\n",
    "        else:\n",
    "            print('\\nIncorrect! Please try again')\n",
    "\n",
    "_fr = fr.shape[0]\n",
    "database = pd.read_csv('.\\\\data\\\\Database.csv')\n",
    "\n",
    "if fr.empty:\n",
    "    print('No anomaly detected') \n",
    "elif (_fr == 1):\n",
    "    print('User' , fr['user_id'].values,', suspicious activity has been detected on your account.'\n",
    "        '\\nPlease follow these steps to verify yourself'\n",
    "        '\\nPlease enter your login details:')        \n",
    "    username = input('\\nUsername:')\n",
    "    password = input('Password:') \n",
    "    verify_user(username, password)       \n",
    "else:\n",
    "    print('Users' , fr['user_id'].values,', suspicious activity has been detected on your accounts.'\n",
    "          '\\nPlease follow these steps to verify yourself')\n",
    "    for i in range(1,_fr+1):\n",
    "        print(i,'.','Please enter your login details:')        \n",
    "        username = input('\\nUsername:')\n",
    "        password = input('Password:') \n",
    "        verify_user(username, password)\n",
    "    \n",
    "    "
   ]
  },
  {
   "cell_type": "code",
   "execution_count": null,
   "metadata": {},
   "outputs": [],
   "source": []
  },
  {
   "cell_type": "code",
   "execution_count": null,
   "metadata": {},
   "outputs": [],
   "source": []
  },
  {
   "cell_type": "code",
   "execution_count": null,
   "metadata": {},
   "outputs": [],
   "source": []
  },
  {
   "cell_type": "code",
   "execution_count": null,
   "metadata": {},
   "outputs": [],
   "source": []
  },
  {
   "cell_type": "code",
   "execution_count": 4,
   "metadata": {},
   "outputs": [
    {
     "data": {
      "text/html": [
       "<div>\n",
       "<style scoped>\n",
       "    .dataframe tbody tr th:only-of-type {\n",
       "        vertical-align: middle;\n",
       "    }\n",
       "\n",
       "    .dataframe tbody tr th {\n",
       "        vertical-align: top;\n",
       "    }\n",
       "\n",
       "    .dataframe thead th {\n",
       "        text-align: right;\n",
       "    }\n",
       "</style>\n",
       "<table border=\"1\" class=\"dataframe\">\n",
       "  <thead>\n",
       "    <tr style=\"text-align: right;\">\n",
       "      <th></th>\n",
       "      <th>Username</th>\n",
       "      <th>Password</th>\n",
       "      <th>Question</th>\n",
       "      <th>Answer</th>\n",
       "    </tr>\n",
       "  </thead>\n",
       "  <tbody>\n",
       "    <tr>\n",
       "      <th>0</th>\n",
       "      <td>Watt</td>\n",
       "      <td>Watt_123</td>\n",
       "      <td>What is your hometown?</td>\n",
       "      <td>India</td>\n",
       "    </tr>\n",
       "    <tr>\n",
       "      <th>1</th>\n",
       "      <td>Zoom</td>\n",
       "      <td>Zoom_111</td>\n",
       "      <td>What is your favorite car?</td>\n",
       "      <td>Ferrari</td>\n",
       "    </tr>\n",
       "    <tr>\n",
       "      <th>2</th>\n",
       "      <td>Thomas</td>\n",
       "      <td>Tom_2020</td>\n",
       "      <td>What was your childhood nickname?</td>\n",
       "      <td>Tommy</td>\n",
       "    </tr>\n",
       "    <tr>\n",
       "      <th>3</th>\n",
       "      <td>John</td>\n",
       "      <td>John_990</td>\n",
       "      <td>What is your mothers middle name?</td>\n",
       "      <td>Sara</td>\n",
       "    </tr>\n",
       "  </tbody>\n",
       "</table>\n",
       "</div>"
      ],
      "text/plain": [
       "  Username  Password                           Question   Answer\n",
       "0     Watt  Watt_123             What is your hometown?    India\n",
       "1     Zoom  Zoom_111         What is your favorite car?  Ferrari\n",
       "2   Thomas  Tom_2020  What was your childhood nickname?    Tommy\n",
       "3     John  John_990  What is your mothers middle name?     Sara"
      ]
     },
     "execution_count": 4,
     "metadata": {},
     "output_type": "execute_result"
    }
   ],
   "source": [
    "database = pd.read_csv('.\\\\data\\\\Database.csv')\n",
    "database.head()"
   ]
  },
  {
   "cell_type": "code",
   "execution_count": null,
   "metadata": {},
   "outputs": [],
   "source": []
  },
  {
   "cell_type": "code",
   "execution_count": null,
   "metadata": {},
   "outputs": [],
   "source": []
  },
  {
   "cell_type": "code",
   "execution_count": null,
   "metadata": {},
   "outputs": [],
   "source": []
  },
  {
   "cell_type": "code",
   "execution_count": null,
   "metadata": {},
   "outputs": [],
   "source": []
  },
  {
   "cell_type": "code",
   "execution_count": null,
   "metadata": {},
   "outputs": [],
   "source": []
  },
  {
   "cell_type": "code",
   "execution_count": null,
   "metadata": {},
   "outputs": [],
   "source": []
  }
 ],
 "metadata": {
  "kernelspec": {
   "display_name": "Python 3",
   "language": "python",
   "name": "python3"
  },
  "language_info": {
   "codemirror_mode": {
    "name": "ipython",
    "version": 3
   },
   "file_extension": ".py",
   "mimetype": "text/x-python",
   "name": "python",
   "nbconvert_exporter": "python",
   "pygments_lexer": "ipython3",
   "version": "3.8.3"
  }
 },
 "nbformat": 4,
 "nbformat_minor": 4
}
